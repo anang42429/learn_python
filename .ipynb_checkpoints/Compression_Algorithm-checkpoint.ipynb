{
 "cells": [
  {
   "cell_type": "markdown",
   "metadata": {},
   "source": [
    "LZ78 Compression Algorithms\n",
    "\n",
    "Deskripsi:\n",
    "Enkripsi Text/String menjadi simbol"
   ]
  },
  {
   "cell_type": "code",
   "execution_count": 8,
   "metadata": {},
   "outputs": [
    {
     "name": "stdout",
     "output_type": "stream",
     "text": [
      "Result  ['T', 'O', 'B', 'E', 'O', 'R', 'N', 'O', 'T', 256, 258, 260, 262, 264, 257, 259, 261, 263]\n",
      "\n",
      "\n",
      "Result  TOBEORNOTTOBEORNOTTOBEORNOT\n"
     ]
    }
   ],
   "source": [
    "from io import StringIO\n",
    "\n",
    "def compress(uncompressed):\n",
    "    \n",
    "    \"\"\" Compress a string to a list of output symbol \"\"\"\n",
    "    dict_size = 256\n",
    "    dictionary = dict((chr(i), chr(i)) for i in range(dict_size))\n",
    "    \n",
    "    w = \"\"\n",
    "    result = []\n",
    "    \n",
    "    for c in uncompressed:\n",
    "        wc = w + c\n",
    "        if wc in dictionary:\n",
    "            w = wc\n",
    "        else:\n",
    "            result.append(dictionary[w])\n",
    "            dictionary[wc] = dict_size\n",
    "            dict_size += 1\n",
    "            w = c\n",
    "            \n",
    "    # Output Code for w\n",
    "    if w:\n",
    "        result.append(dictionary[w])\n",
    "    return result\n",
    "\n",
    "# decompress string/text yang sudah dicompress\n",
    "def decompress(compressed):\n",
    "    \n",
    "    \"\"\" Decompress list of symbol into text/string \"\"\"\n",
    "    \n",
    "    dict_size = 256\n",
    "    dictionary = dict((chr(i), chr(i)) for i in range(dict_size))\n",
    "    \n",
    "    result = StringIO()\n",
    "    w = compressed.pop(0)\n",
    "    result.write(w)\n",
    "    for k in compressed:\n",
    "        if k in dictionary:\n",
    "            entry = dictionary[k]\n",
    "        elif k == dict_size:\n",
    "            entry = w + w[0]\n",
    "        else:\n",
    "            raise ValueError('Bad compressed k: %s'  % k)\n",
    "        result.write(entry)\n",
    "        \n",
    "        dictionary[dict_size] = w + entry[0]\n",
    "        dict_size += 1\n",
    "        \n",
    "        w = entry\n",
    "    return result.getvalue()\n",
    "\n",
    "# Penggunaan\n",
    "compressed = compress('TOBEORNOTTOBEORNOTTOBEORNOT')\n",
    "print(\"Result \", compressed)\n",
    "print(\"\\n\")\n",
    "decompressed = decompress(compressed)\n",
    "print(\"Result \", decompressed)"
   ]
  },
  {
   "cell_type": "code",
   "execution_count": null,
   "metadata": {},
   "outputs": [],
   "source": []
  }
 ],
 "metadata": {
  "kernelspec": {
   "display_name": "Python 3",
   "language": "python",
   "name": "python3"
  },
  "language_info": {
   "codemirror_mode": {
    "name": "ipython",
    "version": 3
   },
   "file_extension": ".py",
   "mimetype": "text/x-python",
   "name": "python",
   "nbconvert_exporter": "python",
   "pygments_lexer": "ipython3",
   "version": "3.7.0"
  }
 },
 "nbformat": 4,
 "nbformat_minor": 2
}
