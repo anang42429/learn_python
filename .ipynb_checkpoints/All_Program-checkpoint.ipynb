{
 "cells": [
  {
   "cell_type": "markdown",
   "metadata": {},
   "source": [
    "# Koleksi semua programku"
   ]
  },
  {
   "cell_type": "code",
   "execution_count": 2,
   "metadata": {
    "scrolled": false
   },
   "outputs": [],
   "source": [
    "from termcolor import colored\n",
    "from ipywidgets import interact\n",
    "import dis\n",
    "import binascii\n",
    "\n",
    "def convert(i):\n",
    "    \n",
    "    try:\n",
    "        #Try to convert\n",
    "        val_i = int(i)\n",
    "        \n",
    "        #Jika data i adalah integer, maka dilanjutkan ke input dibawah\n",
    "        #inp = print(\"Beda nilai ditambah / dibagi ? \", interact(x, f = False));\n",
    "        val_be = int(input(\"Masukkan beda antar nilai: \"))\n",
    "        val_c = int(input(\"Masukkan batas nilai loop: \"))\n",
    "        \n",
    "        \n",
    "        print(\"\\n\")\n",
    "        print('{:>8} {:>12} {:>11} {:>8}'.format(\"[Desimal]\", \"[Biner]\", \"[Hexa]\", \"[Oktal]\"))\n",
    "        print(\"===========================================\")\n",
    "        if val_be > 1:\n",
    "            while val_i <= val_c:\n",
    "                print('{:>8} {:>15} {:>8} {:>8}'.format(val_i, '{0:b}'.format(val_i), hex(val_i), oct(val_i)))\n",
    "                val_i = val_i * val_be\n",
    "                if val_i >= val_c:\n",
    "                    print(\"\\n\")\n",
    "                    print(\"Operasi Selesai\")\n",
    "                    break\n",
    "        else:\n",
    "            while val_i <= val_c:\n",
    "                print('{:>8} {:>15} {:>8} {:>8}'.format(val_i, '{0:b}'.format(val_i), hex(val_i), oct(val_i)))\n",
    "                val_i = val_i + val_be\n",
    "                if val_i >= val_c:\n",
    "                    print(\"\\n\")\n",
    "                    print(\"Operasi Selesai\")\n",
    "                    break\n",
    "                    \n",
    "    except ValueError:\n",
    "        print(colored(\"Data is string, convert string instead!\", 'red'))\n",
    "        li = list(i)\n",
    "        print(\"\\n\", \"{} {} {:>10} {:>11}\".format(\"[Huruf]\", \"[Biner]\", \"[Hexa]\", \"[Oktal]\"))\n",
    "        print(\"=========================================\")\n",
    "        \n",
    "        for n in li:\n",
    "            bi = ''.join(format(ord(bi_n), 'b') for bi_n in n)\n",
    "            bi_int = int(bi)\n",
    "            he = hex(bi_int)\n",
    "            oc = oct(bi_int)\n",
    "            print(\"{:>5} {:>10} {:>11} {:>11}\".format(n, bi, he, oc))\n",
    "            hit = len(n)\n",
    "            if hit >= len(li):\n",
    "                break\n",
    "            \n",
    "        com_bi = ''.join(format(ord(combi_n), 'b') for combi_n in i)\n",
    "        com_bi_int = int(com_bi)\n",
    "        com_he = hex(com_bi_int)\n",
    "        com_oc = oct(com_bi_int)\n",
    "        print(\"\\n\")\n",
    "        print(\"Konversi lengkap: \")\n",
    "        print(\"{} {} {} {}\".format(i,\"(biner)\", \"=\", com_bi))\n",
    "        print(\"{} {} {:>2} {}\".format(i,\"(hexa)\", \"=\", com_he))\n",
    "        print(\"{} {} {} {}\".format(i,\"(Oktal)\", \"=\", com_oc))"
   ]
  },
  {
   "cell_type": "code",
   "execution_count": 4,
   "metadata": {},
   "outputs": [
    {
     "name": "stdout",
     "output_type": "stream",
     "text": [
      "Input nomor / angka awal: Angka\n",
      "\u001b[31mData is string, convert string instead!\u001b[0m\n",
      "\n",
      " [Huruf] [Biner]     [Hexa]     [Oktal]\n",
      "=========================================\n",
      "    A    1000001     0xf4241   0o3641101\n",
      "    n    1101110    0x10cd36   0o4146466\n",
      "    g    1100111    0x10c94f   0o4144517\n",
      "    k    1101011    0x10ccd3   0o4146323\n",
      "    a    1100001    0x10c8e1   0o4144341\n",
      "\n",
      "\n",
      "Konversi lengkap: \n",
      "Angka (biner) = 10000011101110110011111010111100001\n",
      "Angka (hexa)  = 0x1ed09e28c274121789061b57c9461\n",
      "Angka (Oktal) = 0o36641170506047202205704406066537112141\n"
     ]
    }
   ],
   "source": [
    "z = input(\"Input nomor / angka awal: \")\n",
    "convert(z)"
   ]
  }
 ],
 "metadata": {
  "kernelspec": {
   "display_name": "Python 3",
   "language": "python",
   "name": "python3"
  },
  "language_info": {
   "codemirror_mode": {
    "name": "ipython",
    "version": 3
   },
   "file_extension": ".py",
   "mimetype": "text/x-python",
   "name": "python",
   "nbconvert_exporter": "python",
   "pygments_lexer": "ipython3",
   "version": "3.7.0"
  }
 },
 "nbformat": 4,
 "nbformat_minor": 2
}
