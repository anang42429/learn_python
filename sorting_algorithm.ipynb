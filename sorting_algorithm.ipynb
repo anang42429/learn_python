{
 "cells": [
  {
   "cell_type": "markdown",
   "metadata": {},
   "source": [
    "# Sorting algorithm"
   ]
  },
  {
   "cell_type": "markdown",
   "metadata": {},
   "source": [
    "Bubble Sort"
   ]
  },
  {
   "cell_type": "code",
   "execution_count": 93,
   "metadata": {},
   "outputs": [],
   "source": [
    "from termcolor import colored\n",
    "from random import *\n",
    "import random\n",
    "\n",
    "def bubbleSort(arr):\n",
    "    a = len(arr)\n",
    "    \n",
    "    for b in range(a):\n",
    "        for c in range(0, a-b-1):\n",
    "            if arr[c] > arr[c+1]:\n",
    "                arr[c], arr[c+1] = arr[c+1], arr[c]\n",
    "    \n",
    "    print(a)"
   ]
  },
  {
   "cell_type": "code",
   "execution_count": 96,
   "metadata": {},
   "outputs": [
    {
     "name": "stdout",
     "output_type": "stream",
     "text": [
      "\u001b[31mFor debug mode:\u001b[0m \u001b[31m[2, 1, 5, 4, 8, 3, 6, 9, 0, 7]\u001b[0m\n",
      "10\n",
      "Sorted array is: \n",
      "0\n",
      "1\n",
      "2\n",
      "3\n",
      "4\n",
      "5\n",
      "6\n",
      "7\n",
      "8\n",
      "9\n"
     ]
    }
   ],
   "source": [
    "#d = list(input(\"Input data (ex: 24,54): \"))\n",
    "items = [0, 1, 2, 3, 4, 5, 6, 7, 8, 9]\n",
    "shuffle(items)\n",
    "d = items\n",
    "print(colored(\"For debug mode:\", \"red\"), colored(d, \"red\"))\n",
    "\n",
    "bubbleSort(d)\n",
    "\n",
    "print(\"Sorted array is: \")\n",
    "for e in range(len(d)):\n",
    "    print(e)"
   ]
  }
 ],
 "metadata": {
  "kernelspec": {
   "display_name": "Python 3",
   "language": "python",
   "name": "python3"
  },
  "language_info": {
   "codemirror_mode": {
    "name": "ipython",
    "version": 3
   },
   "file_extension": ".py",
   "mimetype": "text/x-python",
   "name": "python",
   "nbconvert_exporter": "python",
   "pygments_lexer": "ipython3",
   "version": "3.7.0"
  }
 },
 "nbformat": 4,
 "nbformat_minor": 2
}
