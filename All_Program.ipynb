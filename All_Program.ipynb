{
 "cells": [
  {
   "cell_type": "markdown",
   "metadata": {},
   "source": [
    "Full program / fungsi convert"
   ]
  },
  {
   "cell_type": "code",
   "execution_count": 3,
   "metadata": {
    "scrolled": false
   },
   "outputs": [],
   "source": [
    "from termcolor import colored\n",
    "import operator\n",
    "import math\n",
    "\n",
    "\n",
    "# List operator matematika\n",
    "oper = {\"+\": operator.add,\n",
    "        \"-\": operator.sub,\n",
    "        \"*\": operator.mul}\n",
    "\n",
    "def convert(i):\n",
    "    \n",
    "    try:\n",
    "        #Try to convert\n",
    "        val_i = int(i)\n",
    "        \n",
    "        # Jika data i adalah integer, maka lanjut ke input dibawah\n",
    "        # inp = interact(x, f = False));\n",
    "        # print(fungsi_op)\n",
    "        val_be = int(input(\"Input nilai pembeda: \"))\n",
    "        val_c = int(input(\"Input nilai akhir: \"))\n",
    "        ops_inp = input(\"Input operator nilai pembeda: \")\n",
    "        fungsi_op = oper[ops_inp]\n",
    "        \n",
    "        print(\"\\n\")\n",
    "        print('{:>8} {:>12} {:>11} {:>8}'.format(\"[Desimal]\", \"[Biner]\", \"[Hexa]\", \"[Oktal]\"))\n",
    "        print(\"===========================================\")\n",
    "        \n",
    "        while val_i != val_c:\n",
    "            print('{:>8} {:>15} {:>8} {:>8}'.format(val_i, '{0:b}'.format(val_i), hex(val_i), oct(val_i)))\n",
    "            val_i = fungsi_op(val_i, val_be)\n",
    "            if val_i == range(val_c):\n",
    "                print(\"\\n\")\n",
    "                print(\"Operasi Selesai\")\n",
    "                break\n",
    "                    \n",
    "    except:\n",
    "        print(colored(\"Data is string, convert string instead!\", 'red'))\n",
    "        li = list(i)\n",
    "        print(\"\\n\", \"{} {} {:>10} {:>11}\".format(\"[Huruf]\", \"[Biner]\", \"[Hexa]\", \"[Oktal]\"))\n",
    "        print(\"=========================================\")\n",
    "        \n",
    "        for n in li:\n",
    "            bi = ''.join(format(ord(bi_n), 'b') for bi_n in n)\n",
    "            bi_int = int(bi)\n",
    "            he = hex(bi_int)\n",
    "            oc = oct(bi_int)\n",
    "            print(\"{:>5} {:>10} {:>11} {:>11}\".format(n, bi, he, oc))\n",
    "            hit = len(n)\n",
    "            if hit >= len(li):\n",
    "                break\n",
    "            \n",
    "        com_bi = ''.join(format(ord(combi_n), 'b') for combi_n in i)\n",
    "        com_bi_int = int(com_bi)\n",
    "        com_he = hex(com_bi_int)\n",
    "        com_oc = oct(com_bi_int)\n",
    "        \n",
    "        print(\"\\n\")\n",
    "        print(\"Konversi lengkap: \")\n",
    "        print(\"{} {} {} {}\".format(i,\"(biner)\", \"=\", com_bi))\n",
    "        print(\"{} {} {:>2} {}\".format(i,\"(hexa)\", \"=\", com_he))\n",
    "        print(\"{} {} {} {}\".format(i,\"(Oktal)\", \"=\", com_oc))"
   ]
  },
  {
   "cell_type": "markdown",
   "metadata": {},
   "source": [
    "Inisiasi dan penggunaan program convert"
   ]
  },
  {
   "cell_type": "code",
   "execution_count": null,
   "metadata": {
    "scrolled": false
   },
   "outputs": [
    {
     "name": "stdout",
     "output_type": "stream",
     "text": [
      "Input angka / huruf: 1\n"
     ]
    }
   ],
   "source": [
    "awal = input(\"Input angka / huruf: \")\n",
    "    \n",
    "# a = float(sqrt(b) + int(z))\n",
    "\n",
    "convert(awal)"
   ]
  },
  {
   "cell_type": "markdown",
   "metadata": {},
   "source": [
    "Python Class"
   ]
  },
  {
   "cell_type": "code",
   "execution_count": 17,
   "metadata": {},
   "outputs": [
    {
     "name": "stdout",
     "output_type": "stream",
     "text": [
      "3.141592653589793\n",
      "Hello my name is Anang and my age 22\n",
      "Umur anda setelah dibagi dua adalah 7\n",
      "Anda boleh masuk\n"
     ]
    }
   ],
   "source": [
    "class Person:\n",
    "    def __init__(this, name, age):\n",
    "        this.name = name\n",
    "        this.age = age\n",
    "        \n",
    "    def func(this):\n",
    "        divide = this.age/math.pi\n",
    "        newd = int(divide)\n",
    "        \n",
    "        print(math.pi)\n",
    "        print(\"Hello my name is\", this.name, \"and my age\", this.age)\n",
    "        print(\"Umur anda setelah dibagi dua adalah\", newd)\n",
    "        \n",
    "        if newd >= 7:\n",
    "            print(\"Anda boleh masuk\")\n",
    "        else:\n",
    "            print(\"Anda tidak boleh masuk\")\n",
    "\n",
    "p1 = Person(\"Anang\", 22)\n",
    "p1.func()\n",
    "\n"
   ]
  },
  {
   "cell_type": "code",
   "execution_count": 27,
   "metadata": {},
   "outputs": [],
   "source": [
    "def test(i, n):\n",
    "    try:\n",
    "        int_i = int(i)\n",
    "        int_n = int(n) + int_i\n",
    "        print(\"This is integer\", int_n)\n",
    "    \n",
    "    except:\n",
    "        print(\"This is string\")"
   ]
  },
  {
   "cell_type": "code",
   "execution_count": 29,
   "metadata": {},
   "outputs": [
    {
     "name": "stdout",
     "output_type": "stream",
     "text": [
      "Input data: Angka\n",
      "Input data(again): 1\n",
      "This is string\n"
     ]
    }
   ],
   "source": [
    "j = input(\"Input data: \")\n",
    "n = input(\"Input data(again): \")\n",
    "test(j, n)"
   ]
  }
 ],
 "metadata": {
  "kernelspec": {
   "display_name": "Python 3",
   "language": "python",
   "name": "python3"
  },
  "language_info": {
   "codemirror_mode": {
    "name": "ipython",
    "version": 3
   },
   "file_extension": ".py",
   "mimetype": "text/x-python",
   "name": "python",
   "nbconvert_exporter": "python",
   "pygments_lexer": "ipython3",
   "version": "3.7.0"
  }
 },
 "nbformat": 4,
 "nbformat_minor": 2
}
